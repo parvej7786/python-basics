{
  "nbformat": 4,
  "nbformat_minor": 0,
  "metadata": {
    "colab": {
      "provenance": []
    },
    "kernelspec": {
      "name": "python3",
      "display_name": "Python 3"
    },
    "language_info": {
      "name": "python"
    }
  },
  "cells": [
    {
      "cell_type": "markdown",
      "source": [
        "Python Basics"
      ],
      "metadata": {
        "id": "SPX-XVGLh-OW"
      }
    },
    {
      "cell_type": "markdown",
      "source": [
        "1.What is Python, and why is it popular?\n",
        " ->Python is a high-level, general-purpose, and interpreted programming language. It is commonly used for developing websites and software, task automation, data analysis, and data visualization. Python is known for its ease of use, powerful standard library, and dynamic semantics. It was released in 1991 by Dutchman Guido van Rossum as an interpreted programming language with an emphasis on readability. Python is popular because of its simplicity, readability, and versatility.\n",
        "  \n",
        "2.What is an interpreter in Python?\n",
        "  ->In python,an interpreter is a program that reads and executes python code line by line,translating it into instructions the computer can understand, making it a crucial tool for running python scripts and code interactively.\n",
        "\n",
        "3.What are pre-defined keywords in Python?\n",
        "   ->Keywords in Python are predefined reserved words with special meanings so the interpreter can understand them. They perform specific tasks in Python programming and are a part of its syntax.\n",
        "\n",
        " 4.Can keywords be used as variable names?\n",
        "   ->No, keywords cannot be used as variable names. Keywords define the structure and syntax of a programming language, so they are reserved for special purposes.\n",
        "\n",
        " 5.What is mutability in Python?\n",
        "  ->In Python, mutability refers to the ability to change an object's value or state after it's created. Objects that can be modified are mutable, while objects that cannot are immutable.\n",
        "\n",
        "6.Why are lists mutable, but tuples are immutable?\n",
        " ->Tuples and lists are the same in every way except two: tuples use parentheses instead of square brackets, and the items in tuples cannot be modified (but the items in lists can be modified). We often call lists mutable (meaning they can be changed) and tuples immutable (meaning they cannot be changed).\n",
        "\n",
        "7.What is the difference between “==” and “is” operators in Python?\n",
        " ->The is operator is used to check if different variables are pointing to the same object in memory. The == operator is used in Python when the values of the operands are equal. In such a case, the condition is true.\n",
        "\n",
        "8.What are logical operators in Python?\n",
        " ->Logical operators in Python are and, or, and not. They combine conditions into expressions that evaluate to either True or False. Logical operators are also known as Boolean operators.\n",
        "\n",
        "9.What is type casting in Python?\n",
        " ->In Python, type casting (also known as type conversion) is the process of converting a variable's data type from one type to another, often using built-in functions like int(), float(), or str().\n",
        "\n",
        "10.What is the difference between implicit and explicit type casting?\n",
        " ->In programming, implicit type casting (or widening) happens automatically by the compiler when converting a smaller data type to a larger one, while explicit type casting (or narrowing) requires the programmer to use a cast operator to convert a larger type to a smaller one, potentially leading to data loss.\n",
        "\n",
        "11.What is the purpose of conditional statements in Python?\n",
        " ->Conditional statements are an essential part of programming in Python. They allow you to make decisions based on the values of variables or the result of comparisons. In this article, we'll explore how to use if, else, and elif statements in Python.\n",
        "\n",
        "12.How does the elif statement work?\n",
        " ->The “elif” keyword in Python, stands for “else if”. It can be used in conditional statements to check for multiple conditions. For example, if the first condition is false, it moves on to the next “elif” statement to check if that condition is true.\n",
        "\n",
        "13.What is the difference between for and while loops?\n",
        " ->The core difference between for and while loops lies in how they control iterations: for loops are used when the number of iterations is known beforehand, while while loops repeat until a condition becomes false, making them suitable for scenarios where the number of iterations is not predetermined.\n",
        "\n",
        "14.Describe a scenario where a while loop is more suitable than a for loop.\n",
        " ->You don't know how many lines the file contains, so you need a loop that keeps reading line by line until there are no more lines to read. In such a case, a \"While Loop\" is more appropriate because the number of iterations needed isn't known in advance—it depends on the file's content."
      ],
      "metadata": {
        "id": "bYbFTRbCi0Ym"
      }
    },
    {
      "cell_type": "markdown",
      "source": [
        "Practical Questions"
      ],
      "metadata": {
        "id": "9TYx16okAGcQ"
      }
    },
    {
      "cell_type": "code",
      "source": [
        "print(\"Hello, World\")"
      ],
      "metadata": {
        "colab": {
          "base_uri": "https://localhost:8080/"
        },
        "id": "cnfWq0cW-3yS",
        "outputId": "46049c0b-2837-4458-945a-28b131356bc2"
      },
      "execution_count": null,
      "outputs": [
        {
          "output_type": "stream",
          "name": "stdout",
          "text": [
            "Hello, World\n"
          ]
        }
      ]
    },
    {
      "cell_type": "code",
      "source": [
        "name=input(\"enter your name:\")\n",
        "age=input(\"enter your age:\")\n",
        "print(\"Name:\",name)\n",
        "print(\"Age;\",age)"
      ],
      "metadata": {
        "colab": {
          "base_uri": "https://localhost:8080/"
        },
        "id": "tF_UGXTlATtc",
        "outputId": "1427a358-b1b3-48e5-899c-93308d9b1965"
      },
      "execution_count": null,
      "outputs": [
        {
          "output_type": "stream",
          "name": "stdout",
          "text": [
            "enter your name:Parvej Alam\n",
            "enter your age:22\n",
            "Name: Parvej Alam\n",
            "Age; 22\n"
          ]
        }
      ]
    },
    {
      "cell_type": "code",
      "source": [
        "keywords = keyword.kwlist\n",
        "\n",
        "print(\"Python Keywords:\")\n",
        "for kw in keywords:\n",
        "    print(kw)"
      ],
      "metadata": {
        "id": "6xlpteWxCk34",
        "colab": {
          "base_uri": "https://localhost:8080/"
        },
        "outputId": "2c862208-61ed-47b4-bcd0-eb906acca13c"
      },
      "execution_count": null,
      "outputs": [
        {
          "output_type": "stream",
          "name": "stdout",
          "text": [
            "Python Keywords:\n",
            "False\n",
            "None\n",
            "True\n",
            "and\n",
            "as\n",
            "assert\n",
            "async\n",
            "await\n",
            "break\n",
            "class\n",
            "continue\n",
            "def\n",
            "del\n",
            "elif\n",
            "else\n",
            "except\n",
            "finally\n",
            "for\n",
            "from\n",
            "global\n",
            "if\n",
            "import\n",
            "in\n",
            "is\n",
            "lambda\n",
            "nonlocal\n",
            "not\n",
            "or\n",
            "pass\n",
            "raise\n",
            "return\n",
            "try\n",
            "while\n",
            "with\n",
            "yield\n"
          ]
        }
      ]
    },
    {
      "cell_type": "code",
      "source": [
        "word = input(\"Enter a word to check if it's a Python keyword: \")\n",
        "\n",
        "if keyword.iskeyword(word):\n",
        "    print(f\"'{word}' is a Python keyword.\")\n",
        "else:\n",
        "    print(f\"'{word}' is NOT a Python keyword.\")"
      ],
      "metadata": {
        "colab": {
          "base_uri": "https://localhost:8080/"
        },
        "id": "jiGZBtAZAXW2",
        "outputId": "77fd8e9c-1d30-4454-e0a2-4e36cf95bb3c"
      },
      "execution_count": null,
      "outputs": [
        {
          "output_type": "stream",
          "name": "stdout",
          "text": [
            "Enter a word to check if it's a Python keyword: Word\n",
            "'Word' is NOT a Python keyword.\n"
          ]
        }
      ]
    },
    {
      "cell_type": "code",
      "source": [
        "my_list = [10, 20, 30]\n",
        "my_tuple = (10, 20, 30)\n",
        "\n",
        "print(\"Original list:\", my_list)\n",
        "my_list[1] = 200\n",
        "print(\"Modified list:\", my_list)\n",
        "\n",
        "print(\"\\nOriginal tuple:\", my_tuple)\n",
        "try:\n",
        "    my_tuple[1] = 200\n",
        "except TypeError as e:\n",
        "    print(\"Error:\",e)"
      ],
      "metadata": {
        "colab": {
          "base_uri": "https://localhost:8080/"
        },
        "id": "zYD4vhe2BeCe",
        "outputId": "51d2fc4a-4e3c-4a8f-dd9c-5659543a1ea6"
      },
      "execution_count": null,
      "outputs": [
        {
          "output_type": "stream",
          "name": "stdout",
          "text": [
            "Original list: [10, 20, 30]\n",
            "Modified list: [10, 200, 30]\n",
            "\n",
            "Original tuple: (10, 20, 30)\n",
            "Error: 'tuple' object does not support item assignment\n"
          ]
        }
      ]
    },
    {
      "cell_type": "code",
      "source": [
        "def demo(mutable_list, immutable_int):\n",
        "    mutable_list.append(99)\n",
        "    immutable_int += 1\n",
        "    print(\"Inside function:\")\n",
        "    print(\"List:\", mutable_list)\n",
        "    print(\"Int:\", immutable_int)\n",
        "\n",
        "# Initial values\n",
        "my_list = [1, 2, 3]\n",
        "my_int = 10\n",
        "\n",
        "demo(my_list, my_int)\n",
        "\n",
        "print(\"\\nOutside function:\")\n",
        "print(\"List:\", my_list)   # Changed\n",
        "print(\"Int:\", my_int)     # Unchanged"
      ],
      "metadata": {
        "colab": {
          "base_uri": "https://localhost:8080/"
        },
        "id": "jTu1KCjfASAA",
        "outputId": "c2e4c5eb-a0db-493c-9413-c7f22975be14"
      },
      "execution_count": 2,
      "outputs": [
        {
          "output_type": "stream",
          "name": "stdout",
          "text": [
            "Inside function:\n",
            "List: [1, 2, 3, 99]\n",
            "Int: 11\n",
            "\n",
            "Outside function:\n",
            "List: [1, 2, 3, 99]\n",
            "Int: 10\n"
          ]
        }
      ]
    },
    {
      "cell_type": "code",
      "source": [
        "# Get user input\n",
        "a = float(input(\"Enter first number: \"))\n",
        "b = float(input(\"Enter second number: \"))\n",
        "\n",
        "# Perform operations\n",
        "print(\"Addition:\", a + b)\n",
        "print(\"Subtraction:\", a - b)\n",
        "print(\"Multiplication:\", a * b)\n",
        "if b != 0:\n",
        "    print(\"Division:\", a / b)\n",
        "else:\n",
        "    print(\"Division: Cannot divide by zero\")"
      ],
      "metadata": {
        "colab": {
          "base_uri": "https://localhost:8080/"
        },
        "id": "avPlw7WlCGdQ",
        "outputId": "d4f67569-e609-4ede-a5fc-05dcf79b8a45"
      },
      "execution_count": 3,
      "outputs": [
        {
          "output_type": "stream",
          "name": "stdout",
          "text": [
            "Enter first number: 5\n",
            "Enter second number: 10\n",
            "Addition: 15.0\n",
            "Subtraction: -5.0\n",
            "Multiplication: 50.0\n",
            "Division: 0.5\n"
          ]
        }
      ]
    },
    {
      "cell_type": "code",
      "source": [
        "# Get user input\n",
        "a = int(input(\"Enter first number: \"))\n",
        "b = int(input(\"Enter second number: \"))\n",
        "\n",
        "# Logical operators\n",
        "print(\"a > 0 and b > 0:\", a > 0 and b > 0)\n",
        "print(\"a > 0 or b > 0:\", a > 0 or b > 0)\n",
        "print(\"not (a > 0):\", not (a > 0))"
      ],
      "metadata": {
        "colab": {
          "base_uri": "https://localhost:8080/"
        },
        "id": "J1FxyLBWCjmY",
        "outputId": "807f5e12-ab23-406c-b96a-9e585f3ce1e8"
      },
      "execution_count": 5,
      "outputs": [
        {
          "output_type": "stream",
          "name": "stdout",
          "text": [
            "Enter first number: 5\n",
            "Enter second number: 3\n",
            "a > 0 and b > 0: True\n",
            "a > 0 or b > 0: True\n",
            "not (a > 0): False\n"
          ]
        }
      ]
    },
    {
      "cell_type": "code",
      "source": [
        "\n",
        "# Get user input\n",
        "user_input = input(\"Enter a value: \")\n",
        "\n",
        "# Convert to integer\n",
        "try:\n",
        "    int_val = int(user_input)\n",
        "    print(\"Integer:\", int_val)\n",
        "except ValueError:\n",
        "    print(\"Cannot convert to integer.\")\n",
        "\n",
        "# Convert to float\n",
        "try:\n",
        "    float_val = float(user_input)\n",
        "    print(\"Float:\", float_val)\n",
        "except ValueError:\n",
        "    print(\"Cannot convert to float.\")\n",
        "\n",
        "# Convert to boolean\n",
        "bool_val = user_input.lower() in ['true', '1', 'yes']\n",
        "print(\"Boolean:\", bool_val)"
      ],
      "metadata": {
        "colab": {
          "base_uri": "https://localhost:8080/"
        },
        "id": "Vaol89rmDhkA",
        "outputId": "17314fca-c7b9-44ff-b881-07c90b4a48ca"
      },
      "execution_count": 7,
      "outputs": [
        {
          "output_type": "stream",
          "name": "stdout",
          "text": [
            "Enter a value: 7\n",
            "Integer: 7\n",
            "Float: 7.0\n",
            "Boolean: False\n"
          ]
        }
      ]
    },
    {
      "cell_type": "code",
      "source": [
        "# List of strings\n",
        "str_list = ['1', '2', '3', '4.5', 'True']\n",
        "\n",
        "# Convert to integers (where possible)\n",
        "int_list = [int(x) for x in str_list[:3]]\n",
        "print(\"As integers:\", int_list)\n",
        "\n",
        "# Convert to floats\n",
        "float_list = [float(x) for x in str_list[:4]]\n",
        "print(\"As floats:\", float_list)\n",
        "\n",
        "# Convert to booleans\n",
        "bool_list = [bool(x) for x in str_list]\n",
        "print(\"As booleans:\",bool_list)"
      ],
      "metadata": {
        "colab": {
          "base_uri": "https://localhost:8080/"
        },
        "id": "C9GI-xPND6vH",
        "outputId": "b33f05bc-44a1-47e6-9dc2-d8806e26c000"
      },
      "execution_count": 8,
      "outputs": [
        {
          "output_type": "stream",
          "name": "stdout",
          "text": [
            "As integers: [1, 2, 3]\n",
            "As floats: [1.0, 2.0, 3.0, 4.5]\n",
            "As booleans: [True, True, True, True, True]\n"
          ]
        }
      ]
    },
    {
      "cell_type": "code",
      "source": [
        "# Get user input\n",
        "num = float(input(\"Enter a number: \"))\n",
        "\n",
        "# Check and display result\n",
        "if num > 0:\n",
        "    print(\"The number is positive.\")\n",
        "elif num < 0:\n",
        "    print(\"The number is negative.\")\n",
        "else:\n",
        "    print(\"The number is zero.\")"
      ],
      "metadata": {
        "colab": {
          "base_uri": "https://localhost:8080/"
        },
        "id": "vUlliF8ZEoEI",
        "outputId": "5f304800-7d82-4db7-f2c7-c3eb61a68c29"
      },
      "execution_count": 9,
      "outputs": [
        {
          "output_type": "stream",
          "name": "stdout",
          "text": [
            "Enter a number: 5\n",
            "The number is positive.\n"
          ]
        }
      ]
    },
    {
      "cell_type": "code",
      "source": [
        "for i in range(1, 11):\n",
        "    print(i)"
      ],
      "metadata": {
        "colab": {
          "base_uri": "https://localhost:8080/"
        },
        "id": "YhZoDsxuEyBf",
        "outputId": "9613b1d5-7a35-4592-e63b-af38debc04bb"
      },
      "execution_count": 10,
      "outputs": [
        {
          "output_type": "stream",
          "name": "stdout",
          "text": [
            "1\n",
            "2\n",
            "3\n",
            "4\n",
            "5\n",
            "6\n",
            "7\n",
            "8\n",
            "9\n",
            "10\n"
          ]
        }
      ]
    },
    {
      "cell_type": "code",
      "source": [
        "sum_even = 0\n",
        "\n",
        "for i in range(2, 51, 2):\n",
        "    sum_even += i\n",
        "\n",
        "print(\"Sum of even numbers from 1 to 50 is:\",sum_even)"
      ],
      "metadata": {
        "colab": {
          "base_uri": "https://localhost:8080/"
        },
        "id": "6ste0wc2FATX",
        "outputId": "4fdb5f45-efb5-4be1-95fb-3afb38453e4e"
      },
      "execution_count": 11,
      "outputs": [
        {
          "output_type": "stream",
          "name": "stdout",
          "text": [
            "Sum of even numbers from 1 to 50 is: 650\n"
          ]
        }
      ]
    },
    {
      "cell_type": "code",
      "source": [
        "# Get user input\n",
        "text = input(\"Enter a string: \")\n",
        "\n",
        "# Initialize variables\n",
        "reversed_text = \"\"\n",
        "i = len(text) - 1\n",
        "\n",
        "# Reverse using while loop\n",
        "while i >= 0:\n",
        "    reversed_text += text[i]\n",
        "    i -= 1\n",
        "\n",
        "print(\"Reversed string:\",reversed_text)"
      ],
      "metadata": {
        "colab": {
          "base_uri": "https://localhost:8080/"
        },
        "id": "GDnZFP6oFyzo",
        "outputId": "1f1e0d72-3aab-48e2-d4ee-fca9cb309adf"
      },
      "execution_count": 12,
      "outputs": [
        {
          "output_type": "stream",
          "name": "stdout",
          "text": [
            "Enter a string: hello\n",
            "Reversed string: olleh\n"
          ]
        }
      ]
    },
    {
      "cell_type": "code",
      "source": [
        "# Get user input\n",
        "num = int(input(\"Enter a number: \"))\n",
        "\n",
        "# Initialize factorial and counter\n",
        "factorial = 1\n",
        "i = 1\n",
        "\n",
        "# Calculate factorial using while loop\n",
        "while i <= num:\n",
        "    factorial *= i\n",
        "    i += 1\n",
        "\n",
        "print(\"Factorial of\", num, \"is:\",factorial)"
      ],
      "metadata": {
        "colab": {
          "base_uri": "https://localhost:8080/"
        },
        "id": "wwm_WynWGQSI",
        "outputId": "4f1b762a-c17e-491a-a97b-c87a52a50052"
      },
      "execution_count": 13,
      "outputs": [
        {
          "output_type": "stream",
          "name": "stdout",
          "text": [
            "Enter a number: 6\n",
            "Factorial of 6 is: 720\n"
          ]
        }
      ]
    }
  ]
}